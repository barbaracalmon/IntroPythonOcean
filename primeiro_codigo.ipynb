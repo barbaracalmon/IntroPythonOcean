{
  "nbformat": 4,
  "nbformat_minor": 0,
  "metadata": {
    "colab": {
      "name": "primeiro-codigo.ipynb",
      "provenance": [],
      "authorship_tag": "ABX9TyMXTVevwJXXIUrexPk72tyG",
      "include_colab_link": true
    },
    "kernelspec": {
      "name": "python3",
      "display_name": "Python 3"
    },
    "language_info": {
      "name": "python"
    }
  },
  "cells": [
    {
      "cell_type": "markdown",
      "metadata": {
        "id": "view-in-github",
        "colab_type": "text"
      },
      "source": [
        "<a href=\"https://colab.research.google.com/github/barbaracalmon/IntroPythonOcean/blob/main/primeiro_codigo.ipynb\" target=\"_parent\"><img src=\"https://colab.research.google.com/assets/colab-badge.svg\" alt=\"Open In Colab\"/></a>"
      ]
    },
    {
      "cell_type": "code",
      "execution_count": 1,
      "metadata": {
        "colab": {
          "base_uri": "https://localhost:8080/"
        },
        "id": "IkmRcC-9IEPe",
        "outputId": "d8bc0c40-a174-4e00-85b0-13d1738a0d0c"
      },
      "outputs": [
        {
          "output_type": "stream",
          "name": "stdout",
          "text": [
            "Mon Jan 24 17:32:42 2022\n"
          ]
        }
      ],
      "source": [
        "import time\n",
        "\n",
        "print (time.ctime()) \n",
        " "
      ]
    },
    {
      "cell_type": "code",
      "source": [
        "time.sleep(5)\n",
        "\n",
        "print (time.ctime())"
      ],
      "metadata": {
        "colab": {
          "base_uri": "https://localhost:8080/"
        },
        "id": "iReVZcrpKJTH",
        "outputId": "c082785e-168e-4f86-9cd5-57e5eda4e67c"
      },
      "execution_count": 3,
      "outputs": [
        {
          "output_type": "stream",
          "name": "stdout",
          "text": [
            "Mon Jan 24 17:42:40 2022\n"
          ]
        }
      ]
    },
    {
      "cell_type": "markdown",
      "source": [
        "Aqui é um texto **qualquer**.\n",
        "\n",
        "Um texto em *itálico*.\n",
        "\n",
        "Ou mesmo com a fonte ~alterada~ "
      ],
      "metadata": {
        "id": "hsCPzWHTOtWL"
      }
    },
    {
      "cell_type": "markdown",
      "source": [
        "$\\sqt{3x-1}+{1+1}^2$"
      ],
      "metadata": {
        "id": "au1TGNAOQK0R"
      }
    },
    {
      "cell_type": "code",
      "source": [
        "import torch\n",
        "\n",
        "Tensor = torch"
      ],
      "metadata": {
        "id": "plFmxZ9IWq4J"
      },
      "execution_count": 14,
      "outputs": []
    },
    {
      "cell_type": "code",
      "source": [
        "%%html\n",
        "\n",
        "<marquee style='widt: 50%; color: Green;'><b>Curso de Ciencia de Dados</b></marquee>  \""
      ],
      "metadata": {
        "colab": {
          "base_uri": "https://localhost:8080/",
          "height": 56
        },
        "id": "zF23RDOfYBzs",
        "outputId": "4ff381fa-bbfd-48d3-ffcd-d468897fc73b"
      },
      "execution_count": 13,
      "outputs": [
        {
          "output_type": "display_data",
          "data": {
            "text/html": [
              "\n",
              "<marquee style='widt: 50%; color: Green;'><b>Curso de Ciencia de Dados</b></marquee>  \""
            ],
            "text/plain": [
              "<IPython.core.display.HTML object>"
            ]
          },
          "metadata": {}
        }
      ]
    },
    {
      "cell_type": "code",
      "source": [
        "#@title Texto de título padrão\n",
        "\n"
      ],
      "metadata": {
        "id": "o7yWjZg_ZuNb"
      },
      "execution_count": null,
      "outputs": []
    }
  ]
}