{
  "nbformat": 4,
  "nbformat_minor": 0,
  "metadata": {
    "colab": {
      "name": "primeiro-codigo.ipynb",
      "provenance": [],
      "authorship_tag": "ABX9TyOtX+3v0qEBqBilfdHEd4E9",
      "include_colab_link": true
    },
    "kernelspec": {
      "name": "python3",
      "display_name": "Python 3"
    },
    "language_info": {
      "name": "python"
    }
  },
  "cells": [
    {
      "cell_type": "markdown",
      "metadata": {
        "id": "view-in-github",
        "colab_type": "text"
      },
      "source": [
        "<a href=\"https://colab.research.google.com/github/barbaracalmon/IntroPythonOcean/blob/main/primeiro_codigo.ipynb\" target=\"_parent\"><img src=\"https://colab.research.google.com/assets/colab-badge.svg\" alt=\"Open In Colab\"/></a>"
      ]
    },
    {
      "cell_type": "code",
      "execution_count": 1,
      "metadata": {
        "colab": {
          "base_uri": "https://localhost:8080/"
        },
        "id": "IkmRcC-9IEPe",
        "outputId": "d8bc0c40-a174-4e00-85b0-13d1738a0d0c"
      },
      "outputs": [
        {
          "output_type": "stream",
          "name": "stdout",
          "text": [
            "Mon Jan 24 17:32:42 2022\n"
          ]
        }
      ],
      "source": [
        "import time\n",
        "\n",
        "print (time.ctime()) \n",
        " "
      ]
    },
    {
      "cell_type": "code",
      "source": [
        "time.sleep(5)\n",
        "\n",
        "print (time.ctime())"
      ],
      "metadata": {
        "colab": {
          "base_uri": "https://localhost:8080/"
        },
        "id": "iReVZcrpKJTH",
        "outputId": "c082785e-168e-4f86-9cd5-57e5eda4e67c"
      },
      "execution_count": 3,
      "outputs": [
        {
          "output_type": "stream",
          "name": "stdout",
          "text": [
            "Mon Jan 24 17:42:40 2022\n"
          ]
        }
      ]
    },
    {
      "cell_type": "markdown",
      "source": [
        "Aqui é um texto **qualquer**.\n",
        "\n",
        "Um texto em *itálico*.\n",
        "\n",
        "Ou mesmo com a fonte ~alterada~ "
      ],
      "metadata": {
        "id": "hsCPzWHTOtWL"
      }
    },
    {
      "cell_type": "markdown",
      "source": [
        "$\\sqt{3x-1}+{1+1}^2$"
      ],
      "metadata": {
        "id": "au1TGNAOQK0R"
      }
    }
  ]
}